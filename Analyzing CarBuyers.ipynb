{
 "cells": [
  {
   "cell_type": "code",
   "execution_count": 7,
   "id": "1782dd4f",
   "metadata": {},
   "outputs": [],
   "source": [
    "import pandas as pd\n",
    "import seaborn as sns \n",
    "import numpy as np\n",
    "import matplotlib.pyplot as plt\n",
    "import scipy.stats as stats\n",
    "from sklearn.model_selection import train_test_split\n",
    "from sklearn.preprocessing import StandardScaler\n",
    "from sklearn.naive_bayes import GaussianNB\n",
    "from sklearn import metrics\n",
    "from sklearn.metrics import confusion_matrix\n",
    "from sklearn.metrics import accuracy_score, precision_score, recall_score, f1_score\n",
    "from sklearn.preprocessing import LabelEncoder\n",
    "from sklearn.discriminant_analysis import LinearDiscriminantAnalysis\n",
    "from sklearn.discriminant_analysis import LinearDiscriminantAnalysis as LDA\n",
    "from sklearn.datasets import load_iris\n",
    "from sklearn.tree import DecisionTreeClassifier\n",
    "from sklearn.linear_model import LinearRegression\n",
    "from sklearn.model_selection import train_test_split\n",
    "from sklearn.linear_model import LogisticRegression\n",
    "from sklearn.neighbors import KNeighborsClassifier\n",
    "from sklearn.neural_network import MLPRegressor\n",
    "from sklearn.metrics import ConfusionMatrixDisplay\n",
    "from scipy.stats import kurtosis    # to calculate kurtosis\n",
    "from scipy.stats import chi2_contingency   # to calculate the chi square test \n",
    "from scipy.stats import zscore, norm   # to calculate the z-test\n",
    "from pgmpy.models import BayesianModel                 # for the bayes network\n",
    "from pgmpy.estimators import ParameterEstimator        # for the bayes network\n",
    "from pgmpy.inference import VariableElimination        # for the bayes network\n",
    "from sklearn.neural_network import MLPClassifier\n",
    "from sklearn.metrics import accuracy_score, classification_report\n",
    "from sklearn.neural_network import MLPClassifier\n",
    "from sklearn.metrics import accuracy_score, classification_report, roc_curve, auc, confusion_matri\n",
    "from sklearn.preprocessing import label_binarize\n"
   ]
  },
  {
   "cell_type": "code",
   "execution_count": 8,
   "id": "fa3d0e32",
   "metadata": {},
   "outputs": [],
   "source": [
    "mydata = pd.read_csv('CarBuyers.csv')"
   ]
  },
  {
   "cell_type": "code",
   "execution_count": 9,
   "id": "6f1b7b31",
   "metadata": {},
   "outputs": [
    {
     "data": {
      "text/html": [
       "<div>\n",
       "<style scoped>\n",
       "    .dataframe tbody tr th:only-of-type {\n",
       "        vertical-align: middle;\n",
       "    }\n",
       "\n",
       "    .dataframe tbody tr th {\n",
       "        vertical-align: top;\n",
       "    }\n",
       "\n",
       "    .dataframe thead th {\n",
       "        text-align: right;\n",
       "    }\n",
       "</style>\n",
       "<table border=\"1\" class=\"dataframe\">\n",
       "  <thead>\n",
       "    <tr style=\"text-align: right;\">\n",
       "      <th></th>\n",
       "      <th>Manufacturer</th>\n",
       "      <th>Model</th>\n",
       "      <th>Price</th>\n",
       "      <th>Transmission</th>\n",
       "      <th>Power</th>\n",
       "      <th>Engine CC</th>\n",
       "      <th>Fuel</th>\n",
       "      <th>Male</th>\n",
       "      <th>Female</th>\n",
       "      <th>Unknown</th>\n",
       "      <th>Total</th>\n",
       "    </tr>\n",
       "  </thead>\n",
       "  <tbody>\n",
       "    <tr>\n",
       "      <th>0</th>\n",
       "      <td>Ford</td>\n",
       "      <td>Focus</td>\n",
       "      <td>30.619322</td>\n",
       "      <td>5.966102</td>\n",
       "      <td>94.033898</td>\n",
       "      <td>1497.169492</td>\n",
       "      <td>petrol</td>\n",
       "      <td>814172</td>\n",
       "      <td>422731</td>\n",
       "      <td>56,487</td>\n",
       "      <td>1293390</td>\n",
       "    </tr>\n",
       "    <tr>\n",
       "      <th>1</th>\n",
       "      <td>Ford</td>\n",
       "      <td>Fiesta</td>\n",
       "      <td>18.532143</td>\n",
       "      <td>5.714286</td>\n",
       "      <td>68.571429</td>\n",
       "      <td>1166.142857</td>\n",
       "      <td>petrol</td>\n",
       "      <td>554879</td>\n",
       "      <td>631666</td>\n",
       "      <td>54,057</td>\n",
       "      <td>1240602</td>\n",
       "    </tr>\n",
       "    <tr>\n",
       "      <th>2</th>\n",
       "      <td>Volkswagen</td>\n",
       "      <td>Golf</td>\n",
       "      <td>31.242154</td>\n",
       "      <td>6.164835</td>\n",
       "      <td>89.461538</td>\n",
       "      <td>1537.406593</td>\n",
       "      <td>petrol</td>\n",
       "      <td>483216</td>\n",
       "      <td>310604</td>\n",
       "      <td>47,563</td>\n",
       "      <td>841383</td>\n",
       "    </tr>\n",
       "    <tr>\n",
       "      <th>3</th>\n",
       "      <td>Renault</td>\n",
       "      <td>Clio</td>\n",
       "      <td>22.100000</td>\n",
       "      <td>5.615385</td>\n",
       "      <td>75.576923</td>\n",
       "      <td>1219.653846</td>\n",
       "      <td>petrol</td>\n",
       "      <td>241287</td>\n",
       "      <td>312556</td>\n",
       "      <td>28,004</td>\n",
       "      <td>581847</td>\n",
       "    </tr>\n",
       "    <tr>\n",
       "      <th>4</th>\n",
       "      <td>BMW</td>\n",
       "      <td>320i</td>\n",
       "      <td>47.848370</td>\n",
       "      <td>6.444444</td>\n",
       "      <td>126.111111</td>\n",
       "      <td>1995.777778</td>\n",
       "      <td>petrol</td>\n",
       "      <td>408016</td>\n",
       "      <td>115843</td>\n",
       "      <td>29,125</td>\n",
       "      <td>552984</td>\n",
       "    </tr>\n",
       "    <tr>\n",
       "      <th>5</th>\n",
       "      <td>Volkswagen</td>\n",
       "      <td>Polo</td>\n",
       "      <td>18.192500</td>\n",
       "      <td>5.074074</td>\n",
       "      <td>60.962963</td>\n",
       "      <td>1408.055556</td>\n",
       "      <td>petrol</td>\n",
       "      <td>216333</td>\n",
       "      <td>299110</td>\n",
       "      <td>31,701</td>\n",
       "      <td>547144</td>\n",
       "    </tr>\n",
       "    <tr>\n",
       "      <th>6</th>\n",
       "      <td>Peugeot</td>\n",
       "      <td>206</td>\n",
       "      <td>20.033750</td>\n",
       "      <td>4.833333</td>\n",
       "      <td>71.333333</td>\n",
       "      <td>1631.500000</td>\n",
       "      <td>petrol</td>\n",
       "      <td>178698</td>\n",
       "      <td>250614</td>\n",
       "      <td>26,135</td>\n",
       "      <td>455447</td>\n",
       "    </tr>\n",
       "    <tr>\n",
       "      <th>7</th>\n",
       "      <td>Ford</td>\n",
       "      <td>Mondeo</td>\n",
       "      <td>39.973750</td>\n",
       "      <td>1.750000</td>\n",
       "      <td>130.250000</td>\n",
       "      <td>1998.500000</td>\n",
       "      <td>petrol</td>\n",
       "      <td>357452</td>\n",
       "      <td>69,603</td>\n",
       "      <td>16,550</td>\n",
       "      <td>443605</td>\n",
       "    </tr>\n",
       "    <tr>\n",
       "      <th>8</th>\n",
       "      <td>Nissan</td>\n",
       "      <td>Micra</td>\n",
       "      <td>20.377609</td>\n",
       "      <td>4.869565</td>\n",
       "      <td>67.956522</td>\n",
       "      <td>1279.695652</td>\n",
       "      <td>petrol</td>\n",
       "      <td>143218</td>\n",
       "      <td>253000</td>\n",
       "      <td>26,619</td>\n",
       "      <td>422837</td>\n",
       "    </tr>\n",
       "    <tr>\n",
       "      <th>9</th>\n",
       "      <td>Honda</td>\n",
       "      <td>Civic</td>\n",
       "      <td>29.942625</td>\n",
       "      <td>4.500000</td>\n",
       "      <td>106.225000</td>\n",
       "      <td>1480.575000</td>\n",
       "      <td>petrol</td>\n",
       "      <td>242188</td>\n",
       "      <td>132958</td>\n",
       "      <td>21,042</td>\n",
       "      <td>396188</td>\n",
       "    </tr>\n",
       "  </tbody>\n",
       "</table>\n",
       "</div>"
      ],
      "text/plain": [
       "  Manufacturer   Model      Price  Transmission       Power    Engine CC  \\\n",
       "0         Ford   Focus  30.619322      5.966102   94.033898  1497.169492   \n",
       "1         Ford  Fiesta  18.532143      5.714286   68.571429  1166.142857   \n",
       "2   Volkswagen    Golf  31.242154      6.164835   89.461538  1537.406593   \n",
       "3      Renault    Clio  22.100000      5.615385   75.576923  1219.653846   \n",
       "4          BMW    320i  47.848370      6.444444  126.111111  1995.777778   \n",
       "5   Volkswagen    Polo  18.192500      5.074074   60.962963  1408.055556   \n",
       "6      Peugeot     206  20.033750      4.833333   71.333333  1631.500000   \n",
       "7         Ford  Mondeo  39.973750      1.750000  130.250000  1998.500000   \n",
       "8       Nissan   Micra  20.377609      4.869565   67.956522  1279.695652   \n",
       "9        Honda   Civic  29.942625      4.500000  106.225000  1480.575000   \n",
       "\n",
       "     Fuel    Male  Female Unknown    Total  \n",
       "0  petrol  814172  422731  56,487  1293390  \n",
       "1  petrol  554879  631666  54,057  1240602  \n",
       "2  petrol  483216  310604  47,563   841383  \n",
       "3  petrol  241287  312556  28,004   581847  \n",
       "4  petrol  408016  115843  29,125   552984  \n",
       "5  petrol  216333  299110  31,701   547144  \n",
       "6  petrol  178698  250614  26,135   455447  \n",
       "7  petrol  357452  69,603  16,550   443605  \n",
       "8  petrol  143218  253000  26,619   422837  \n",
       "9  petrol  242188  132958  21,042   396188  "
      ]
     },
     "execution_count": 9,
     "metadata": {},
     "output_type": "execute_result"
    }
   ],
   "source": [
    "mydata.head(10)"
   ]
  },
  {
   "cell_type": "code",
   "execution_count": 4,
   "id": "52d20368",
   "metadata": {},
   "outputs": [
    {
     "data": {
      "text/html": [
       "<div>\n",
       "<style scoped>\n",
       "    .dataframe tbody tr th:only-of-type {\n",
       "        vertical-align: middle;\n",
       "    }\n",
       "\n",
       "    .dataframe tbody tr th {\n",
       "        vertical-align: top;\n",
       "    }\n",
       "\n",
       "    .dataframe thead th {\n",
       "        text-align: right;\n",
       "    }\n",
       "</style>\n",
       "<table border=\"1\" class=\"dataframe\">\n",
       "  <thead>\n",
       "    <tr style=\"text-align: right;\">\n",
       "      <th></th>\n",
       "      <th>Manufacturer</th>\n",
       "      <th>Model</th>\n",
       "      <th>Price</th>\n",
       "      <th>Transmission</th>\n",
       "      <th>Power</th>\n",
       "      <th>Engine CC</th>\n",
       "      <th>Fuel</th>\n",
       "      <th>Male</th>\n",
       "      <th>Female</th>\n",
       "      <th>Unknown</th>\n",
       "      <th>Total</th>\n",
       "    </tr>\n",
       "  </thead>\n",
       "  <tbody>\n",
       "    <tr>\n",
       "      <th>6082</th>\n",
       "      <td>Mazda</td>\n",
       "      <td>MX-6</td>\n",
       "      <td>30.926667</td>\n",
       "      <td>4.666667</td>\n",
       "      <td>110.333333</td>\n",
       "      <td>2328.333333</td>\n",
       "      <td>petrol</td>\n",
       "      <td>1,121</td>\n",
       "      <td>294</td>\n",
       "      <td>80</td>\n",
       "      <td>1,495</td>\n",
       "    </tr>\n",
       "    <tr>\n",
       "      <th>6083</th>\n",
       "      <td>Daimler</td>\n",
       "      <td>Double</td>\n",
       "      <td>106.820000</td>\n",
       "      <td>4.000000</td>\n",
       "      <td>234.000000</td>\n",
       "      <td>5993.000000</td>\n",
       "      <td>petrol</td>\n",
       "      <td>1,152</td>\n",
       "      <td>129</td>\n",
       "      <td>67</td>\n",
       "      <td>1,348</td>\n",
       "    </tr>\n",
       "    <tr>\n",
       "      <th>6084</th>\n",
       "      <td>Lotus</td>\n",
       "      <td>Esprit</td>\n",
       "      <td>93.424333</td>\n",
       "      <td>5.000000</td>\n",
       "      <td>233.000000</td>\n",
       "      <td>2995.000000</td>\n",
       "      <td>petrol</td>\n",
       "      <td>1,215</td>\n",
       "      <td>88</td>\n",
       "      <td>27</td>\n",
       "      <td>1,330</td>\n",
       "    </tr>\n",
       "    <tr>\n",
       "      <th>6085</th>\n",
       "      <td>Porsche</td>\n",
       "      <td>Carrera</td>\n",
       "      <td>646.605000</td>\n",
       "      <td>6.000000</td>\n",
       "      <td>450.000000</td>\n",
       "      <td>5733.000000</td>\n",
       "      <td>petrol</td>\n",
       "      <td>1,130</td>\n",
       "      <td>158</td>\n",
       "      <td>42</td>\n",
       "      <td>1,330</td>\n",
       "    </tr>\n",
       "    <tr>\n",
       "      <th>6086</th>\n",
       "      <td>Nissan</td>\n",
       "      <td>Maxima</td>\n",
       "      <td>34.103571</td>\n",
       "      <td>4.571429</td>\n",
       "      <td>121.857143</td>\n",
       "      <td>2555.285714</td>\n",
       "      <td>petrol</td>\n",
       "      <td>1,090</td>\n",
       "      <td>160</td>\n",
       "      <td>65</td>\n",
       "      <td>1,315</td>\n",
       "    </tr>\n",
       "    <tr>\n",
       "      <th>6087</th>\n",
       "      <td>Land-Rover</td>\n",
       "      <td>Defender</td>\n",
       "      <td>108.747195</td>\n",
       "      <td>7.853659</td>\n",
       "      <td>207.609756</td>\n",
       "      <td>2304.975610</td>\n",
       "      <td>diesel</td>\n",
       "      <td>1,012</td>\n",
       "      <td>150</td>\n",
       "      <td>80</td>\n",
       "      <td>1,242</td>\n",
       "    </tr>\n",
       "    <tr>\n",
       "      <th>6088</th>\n",
       "      <td>Toyota</td>\n",
       "      <td>RAV4</td>\n",
       "      <td>43.548516</td>\n",
       "      <td>1.354839</td>\n",
       "      <td>137.774193</td>\n",
       "      <td>2261.193548</td>\n",
       "      <td>petrol</td>\n",
       "      <td>670</td>\n",
       "      <td>482</td>\n",
       "      <td>66</td>\n",
       "      <td>1,218</td>\n",
       "    </tr>\n",
       "    <tr>\n",
       "      <th>6089</th>\n",
       "      <td>Alfa-Romeo</td>\n",
       "      <td>Spider</td>\n",
       "      <td>55.200000</td>\n",
       "      <td>6.000000</td>\n",
       "      <td>163.500000</td>\n",
       "      <td>2696.500000</td>\n",
       "      <td>petrol</td>\n",
       "      <td>790</td>\n",
       "      <td>247</td>\n",
       "      <td>81</td>\n",
       "      <td>1,118</td>\n",
       "    </tr>\n",
       "    <tr>\n",
       "      <th>6090</th>\n",
       "      <td>Honda</td>\n",
       "      <td>Shuttle</td>\n",
       "      <td>30.081000</td>\n",
       "      <td>4.000000</td>\n",
       "      <td>110.000000</td>\n",
       "      <td>2254.000000</td>\n",
       "      <td>petrol</td>\n",
       "      <td>639</td>\n",
       "      <td>416</td>\n",
       "      <td>49</td>\n",
       "      <td>1,104</td>\n",
       "    </tr>\n",
       "    <tr>\n",
       "      <th>6091</th>\n",
       "      <td>Mitsubishi</td>\n",
       "      <td>Space</td>\n",
       "      <td>23.165158</td>\n",
       "      <td>3.947368</td>\n",
       "      <td>82.157895</td>\n",
       "      <td>1817.315789</td>\n",
       "      <td>petrol</td>\n",
       "      <td>721</td>\n",
       "      <td>251</td>\n",
       "      <td>40</td>\n",
       "      <td>1,012</td>\n",
       "    </tr>\n",
       "  </tbody>\n",
       "</table>\n",
       "</div>"
      ],
      "text/plain": [
       "     Manufacturer     Model       Price  Transmission       Power  \\\n",
       "6082        Mazda      MX-6   30.926667      4.666667  110.333333   \n",
       "6083      Daimler    Double  106.820000      4.000000  234.000000   \n",
       "6084        Lotus    Esprit   93.424333      5.000000  233.000000   \n",
       "6085      Porsche   Carrera  646.605000      6.000000  450.000000   \n",
       "6086       Nissan    Maxima   34.103571      4.571429  121.857143   \n",
       "6087   Land-Rover  Defender  108.747195      7.853659  207.609756   \n",
       "6088       Toyota      RAV4   43.548516      1.354839  137.774193   \n",
       "6089   Alfa-Romeo    Spider   55.200000      6.000000  163.500000   \n",
       "6090        Honda   Shuttle   30.081000      4.000000  110.000000   \n",
       "6091   Mitsubishi     Space   23.165158      3.947368   82.157895   \n",
       "\n",
       "        Engine CC    Fuel   Male Female Unknown  Total  \n",
       "6082  2328.333333  petrol  1,121    294      80  1,495  \n",
       "6083  5993.000000  petrol  1,152    129      67  1,348  \n",
       "6084  2995.000000  petrol  1,215     88      27  1,330  \n",
       "6085  5733.000000  petrol  1,130    158      42  1,330  \n",
       "6086  2555.285714  petrol  1,090    160      65  1,315  \n",
       "6087  2304.975610  diesel  1,012    150      80  1,242  \n",
       "6088  2261.193548  petrol    670    482      66  1,218  \n",
       "6089  2696.500000  petrol    790    247      81  1,118  \n",
       "6090  2254.000000  petrol    639    416      49  1,104  \n",
       "6091  1817.315789  petrol    721    251      40  1,012  "
      ]
     },
     "execution_count": 4,
     "metadata": {},
     "output_type": "execute_result"
    }
   ],
   "source": [
    "mydata.tail(10)"
   ]
  },
  {
   "cell_type": "code",
   "execution_count": 5,
   "id": "f7b48b03",
   "metadata": {},
   "outputs": [
    {
     "data": {
      "text/html": [
       "<div>\n",
       "<style scoped>\n",
       "    .dataframe tbody tr th:only-of-type {\n",
       "        vertical-align: middle;\n",
       "    }\n",
       "\n",
       "    .dataframe tbody tr th {\n",
       "        vertical-align: top;\n",
       "    }\n",
       "\n",
       "    .dataframe thead th {\n",
       "        text-align: right;\n",
       "    }\n",
       "</style>\n",
       "<table border=\"1\" class=\"dataframe\">\n",
       "  <thead>\n",
       "    <tr style=\"text-align: right;\">\n",
       "      <th></th>\n",
       "      <th>Manufacturer</th>\n",
       "      <th>Model</th>\n",
       "      <th>Price</th>\n",
       "      <th>Transmission</th>\n",
       "      <th>Power</th>\n",
       "      <th>Engine CC</th>\n",
       "      <th>Fuel</th>\n",
       "      <th>Male</th>\n",
       "      <th>Female</th>\n",
       "      <th>Unknown</th>\n",
       "      <th>Total</th>\n",
       "    </tr>\n",
       "  </thead>\n",
       "  <tbody>\n",
       "    <tr>\n",
       "      <th>2558</th>\n",
       "      <td>Suzuki</td>\n",
       "      <td>SX4</td>\n",
       "      <td>20.669500</td>\n",
       "      <td>4.750000</td>\n",
       "      <td>88.000000</td>\n",
       "      <td>1586.000000</td>\n",
       "      <td>petrol</td>\n",
       "      <td>3,361</td>\n",
       "      <td>2,159</td>\n",
       "      <td>365</td>\n",
       "      <td>5,885</td>\n",
       "    </tr>\n",
       "    <tr>\n",
       "      <th>5407</th>\n",
       "      <td>Peugeot</td>\n",
       "      <td>605</td>\n",
       "      <td>35.259727</td>\n",
       "      <td>4.727273</td>\n",
       "      <td>104.636364</td>\n",
       "      <td>2367.181818</td>\n",
       "      <td>petrol</td>\n",
       "      <td>5,215</td>\n",
       "      <td>804</td>\n",
       "      <td>230</td>\n",
       "      <td>6,249</td>\n",
       "    </tr>\n",
       "    <tr>\n",
       "      <th>516</th>\n",
       "      <td>Chrysler</td>\n",
       "      <td>Voyager</td>\n",
       "      <td>39.707737</td>\n",
       "      <td>4.842105</td>\n",
       "      <td>117.578947</td>\n",
       "      <td>2719.842105</td>\n",
       "      <td>diesel</td>\n",
       "      <td>20,696</td>\n",
       "      <td>10,212</td>\n",
       "      <td>1,793</td>\n",
       "      <td>32,701</td>\n",
       "    </tr>\n",
       "    <tr>\n",
       "      <th>448</th>\n",
       "      <td>Citroen</td>\n",
       "      <td>Saxo</td>\n",
       "      <td>12.329818</td>\n",
       "      <td>4.818182</td>\n",
       "      <td>53.818182</td>\n",
       "      <td>1367.272727</td>\n",
       "      <td>petrol</td>\n",
       "      <td>47,502</td>\n",
       "      <td>44,016</td>\n",
       "      <td>4,307</td>\n",
       "      <td>95,825</td>\n",
       "    </tr>\n",
       "    <tr>\n",
       "      <th>5549</th>\n",
       "      <td>Volkswagen</td>\n",
       "      <td>Scirocco</td>\n",
       "      <td>33.706154</td>\n",
       "      <td>6.153846</td>\n",
       "      <td>120.153846</td>\n",
       "      <td>1750.615385</td>\n",
       "      <td>petrol</td>\n",
       "      <td>23,258</td>\n",
       "      <td>8,981</td>\n",
       "      <td>998</td>\n",
       "      <td>33,237</td>\n",
       "    </tr>\n",
       "    <tr>\n",
       "      <th>5235</th>\n",
       "      <td>Porsche</td>\n",
       "      <td>Boxster</td>\n",
       "      <td>83.501250</td>\n",
       "      <td>6.500000</td>\n",
       "      <td>213.500000</td>\n",
       "      <td>3071.000000</td>\n",
       "      <td>petrol</td>\n",
       "      <td>1,761</td>\n",
       "      <td>358</td>\n",
       "      <td>102</td>\n",
       "      <td>2,221</td>\n",
       "    </tr>\n",
       "    <tr>\n",
       "      <th>4482</th>\n",
       "      <td>Kia</td>\n",
       "      <td>Carens</td>\n",
       "      <td>31.195000</td>\n",
       "      <td>6.000000</td>\n",
       "      <td>105.875000</td>\n",
       "      <td>1755.750000</td>\n",
       "      <td>petrol</td>\n",
       "      <td>1,161</td>\n",
       "      <td>419</td>\n",
       "      <td>44</td>\n",
       "      <td>1,624</td>\n",
       "    </tr>\n",
       "    <tr>\n",
       "      <th>5445</th>\n",
       "      <td>Mercedes</td>\n",
       "      <td>Sprinter</td>\n",
       "      <td>43.068421</td>\n",
       "      <td>6.254386</td>\n",
       "      <td>104.201754</td>\n",
       "      <td>2222.710526</td>\n",
       "      <td>diesel</td>\n",
       "      <td>2,414</td>\n",
       "      <td>257</td>\n",
       "      <td>172</td>\n",
       "      <td>2,843</td>\n",
       "    </tr>\n",
       "    <tr>\n",
       "      <th>3917</th>\n",
       "      <td>Daihatsu</td>\n",
       "      <td>Move</td>\n",
       "      <td>12.924000</td>\n",
       "      <td>4.000000</td>\n",
       "      <td>43.000000</td>\n",
       "      <td>989.000000</td>\n",
       "      <td>petrol</td>\n",
       "      <td>748</td>\n",
       "      <td>895</td>\n",
       "      <td>92</td>\n",
       "      <td>1,735</td>\n",
       "    </tr>\n",
       "    <tr>\n",
       "      <th>3688</th>\n",
       "      <td>Toyota</td>\n",
       "      <td>Avensis</td>\n",
       "      <td>37.315231</td>\n",
       "      <td>4.323077</td>\n",
       "      <td>103.676923</td>\n",
       "      <td>1873.261538</td>\n",
       "      <td>petrol</td>\n",
       "      <td>71,642</td>\n",
       "      <td>17,198</td>\n",
       "      <td>4,764</td>\n",
       "      <td>93,604</td>\n",
       "    </tr>\n",
       "    <tr>\n",
       "      <th>384</th>\n",
       "      <td>Ford</td>\n",
       "      <td>Mustang</td>\n",
       "      <td>74.609000</td>\n",
       "      <td>3.200000</td>\n",
       "      <td>239.200000</td>\n",
       "      <td>3640.200000</td>\n",
       "      <td>petrol</td>\n",
       "      <td>1,118</td>\n",
       "      <td>95</td>\n",
       "      <td>29</td>\n",
       "      <td>1,242</td>\n",
       "    </tr>\n",
       "    <tr>\n",
       "      <th>1552</th>\n",
       "      <td>Toyota</td>\n",
       "      <td>Paseo</td>\n",
       "      <td>15.764000</td>\n",
       "      <td>5.000000</td>\n",
       "      <td>66.000000</td>\n",
       "      <td>1497.000000</td>\n",
       "      <td>petrol</td>\n",
       "      <td>694</td>\n",
       "      <td>549</td>\n",
       "      <td>76</td>\n",
       "      <td>1,319</td>\n",
       "    </tr>\n",
       "    <tr>\n",
       "      <th>1366</th>\n",
       "      <td>Mitsubishi</td>\n",
       "      <td>Space</td>\n",
       "      <td>23.165158</td>\n",
       "      <td>3.947368</td>\n",
       "      <td>82.157895</td>\n",
       "      <td>1817.315789</td>\n",
       "      <td>petrol</td>\n",
       "      <td>8,854</td>\n",
       "      <td>5,564</td>\n",
       "      <td>779</td>\n",
       "      <td>15,197</td>\n",
       "    </tr>\n",
       "    <tr>\n",
       "      <th>1312</th>\n",
       "      <td>Toyota</td>\n",
       "      <td>MR2</td>\n",
       "      <td>34.190000</td>\n",
       "      <td>6.000000</td>\n",
       "      <td>103.000000</td>\n",
       "      <td>1794.000000</td>\n",
       "      <td>petrol</td>\n",
       "      <td>15,565</td>\n",
       "      <td>8,267</td>\n",
       "      <td>1,269</td>\n",
       "      <td>25,101</td>\n",
       "    </tr>\n",
       "    <tr>\n",
       "      <th>2143</th>\n",
       "      <td>Ford</td>\n",
       "      <td>Cougar</td>\n",
       "      <td>32.117667</td>\n",
       "      <td>4.666667</td>\n",
       "      <td>115.333333</td>\n",
       "      <td>2362.000000</td>\n",
       "      <td>petrol</td>\n",
       "      <td>8,397</td>\n",
       "      <td>2,397</td>\n",
       "      <td>460</td>\n",
       "      <td>11,254</td>\n",
       "    </tr>\n",
       "  </tbody>\n",
       "</table>\n",
       "</div>"
      ],
      "text/plain": [
       "     Manufacturer     Model      Price  Transmission       Power    Engine CC  \\\n",
       "2558       Suzuki       SX4  20.669500      4.750000   88.000000  1586.000000   \n",
       "5407      Peugeot       605  35.259727      4.727273  104.636364  2367.181818   \n",
       "516      Chrysler   Voyager  39.707737      4.842105  117.578947  2719.842105   \n",
       "448       Citroen      Saxo  12.329818      4.818182   53.818182  1367.272727   \n",
       "5549   Volkswagen  Scirocco  33.706154      6.153846  120.153846  1750.615385   \n",
       "5235      Porsche   Boxster  83.501250      6.500000  213.500000  3071.000000   \n",
       "4482          Kia    Carens  31.195000      6.000000  105.875000  1755.750000   \n",
       "5445     Mercedes  Sprinter  43.068421      6.254386  104.201754  2222.710526   \n",
       "3917     Daihatsu      Move  12.924000      4.000000   43.000000   989.000000   \n",
       "3688       Toyota   Avensis  37.315231      4.323077  103.676923  1873.261538   \n",
       "384          Ford   Mustang  74.609000      3.200000  239.200000  3640.200000   \n",
       "1552       Toyota     Paseo  15.764000      5.000000   66.000000  1497.000000   \n",
       "1366   Mitsubishi     Space  23.165158      3.947368   82.157895  1817.315789   \n",
       "1312       Toyota       MR2  34.190000      6.000000  103.000000  1794.000000   \n",
       "2143         Ford    Cougar  32.117667      4.666667  115.333333  2362.000000   \n",
       "\n",
       "        Fuel    Male  Female Unknown   Total  \n",
       "2558  petrol   3,361   2,159     365   5,885  \n",
       "5407  petrol   5,215     804     230   6,249  \n",
       "516   diesel  20,696  10,212   1,793  32,701  \n",
       "448   petrol  47,502  44,016   4,307  95,825  \n",
       "5549  petrol  23,258   8,981     998  33,237  \n",
       "5235  petrol   1,761     358     102   2,221  \n",
       "4482  petrol   1,161     419      44   1,624  \n",
       "5445  diesel   2,414     257     172   2,843  \n",
       "3917  petrol     748     895      92   1,735  \n",
       "3688  petrol  71,642  17,198   4,764  93,604  \n",
       "384   petrol   1,118      95      29   1,242  \n",
       "1552  petrol     694     549      76   1,319  \n",
       "1366  petrol   8,854   5,564     779  15,197  \n",
       "1312  petrol  15,565   8,267   1,269  25,101  \n",
       "2143  petrol   8,397   2,397     460  11,254  "
      ]
     },
     "execution_count": 5,
     "metadata": {},
     "output_type": "execute_result"
    }
   ],
   "source": [
    "mydata.sample(15)"
   ]
  },
  {
   "cell_type": "code",
   "execution_count": 6,
   "id": "494e92ff",
   "metadata": {},
   "outputs": [
    {
     "name": "stdout",
     "output_type": "stream",
     "text": [
      "<class 'pandas.core.frame.DataFrame'>\n",
      "RangeIndex: 6092 entries, 0 to 6091\n",
      "Data columns (total 11 columns):\n",
      " #   Column        Non-Null Count  Dtype  \n",
      "---  ------        --------------  -----  \n",
      " 0   Manufacturer  6092 non-null   object \n",
      " 1   Model         6092 non-null   object \n",
      " 2   Price         6092 non-null   float64\n",
      " 3   Transmission  6092 non-null   float64\n",
      " 4   Power         6092 non-null   float64\n",
      " 5   Engine CC     6092 non-null   float64\n",
      " 6   Fuel          6092 non-null   object \n",
      " 7   Male          6092 non-null   object \n",
      " 8   Female        6092 non-null   object \n",
      " 9   Unknown       6092 non-null   object \n",
      " 10  Total         6092 non-null   object \n",
      "dtypes: float64(4), object(7)\n",
      "memory usage: 523.7+ KB\n"
     ]
    }
   ],
   "source": [
    "mydata.info()"
   ]
  },
  {
   "cell_type": "code",
   "execution_count": 7,
   "id": "b11c2d53",
   "metadata": {},
   "outputs": [
    {
     "data": {
      "text/plain": [
       "Manufacturer     object\n",
       "Model            object\n",
       "Price           float64\n",
       "Transmission    float64\n",
       "Power           float64\n",
       "Engine CC       float64\n",
       "Fuel             object\n",
       "Male             object\n",
       "Female           object\n",
       "Unknown          object\n",
       "Total            object\n",
       "dtype: object"
      ]
     },
     "execution_count": 7,
     "metadata": {},
     "output_type": "execute_result"
    }
   ],
   "source": [
    "mydata.dtypes"
   ]
  },
  {
   "cell_type": "code",
   "execution_count": 8,
   "id": "871a64ce",
   "metadata": {},
   "outputs": [
    {
     "data": {
      "text/plain": [
       "(6092, 11)"
      ]
     },
     "execution_count": 8,
     "metadata": {},
     "output_type": "execute_result"
    }
   ],
   "source": [
    "mydata.shape"
   ]
  },
  {
   "cell_type": "code",
   "execution_count": 9,
   "id": "51494d27",
   "metadata": {},
   "outputs": [
    {
     "data": {
      "image/png": "[encoded data removed]",
      "text/plain": [
       "<Figure size 640x480 with 1 Axes>"
      ]
     },
     "metadata": {},
     "output_type": "display_data"
    }
   ],
   "source": [
    "#Scatter Plot (males)\n",
    "\n",
    "mydata10 = mydata.iloc[:10]  # first ten rows only \n",
    "x = mydata10['Manufacturer']\n",
    "y = mydata10['Male']\n",
    "plt.scatter(x, y)\n",
    "plt.xlabel('Manufacturer Model')\n",
    "plt.ylabel('No. of males') #no. of males who bought this specific model \n",
    "plt.title('Scatter Plot')\n",
    "plt.show()"
   ]
  },
  {
   "cell_type": "code",
   "execution_count": 10,
   "id": "514913ec",
   "metadata": {},
   "outputs": [
    {
     "data": {
      "image/png": "[encoded data removed]",
      "text/plain": [
       "<Figure size 640x480 with 1 Axes>"
      ]
     },
     "metadata": {},
     "output_type": "display_data"
    }
   ],
   "source": [
    "#Scatter Plot (females)\n",
    "\n",
    "mydata10 = mydata.iloc[:10]   # first ten rows only\n",
    "x = mydata10['Manufacturer']\n",
    "y = mydata10['Female']\n",
    "plt.scatter(x, y)\n",
    "plt.xlabel('Manufacturer Model')\n",
    "plt.ylabel('No. of Females') #no. of Females who bought this specific model \n",
    "plt.title('Scatter Plot')\n",
    "plt.show()"
   ]
  },
  {
   "cell_type": "code",
   "execution_count": 3,
   "id": "fbc56e12",
   "metadata": {
    "scrolled": false
   },
   "outputs": [
    {
     "data": {
      "image/png": "[encoded data removed]",
      "text/plain": [
       "<Figure size 640x480 with 2 Axes>"
      ]
     },
     "metadata": {},
     "output_type": "display_data"
    }
   ],
   "source": [
    "#Heat Map\n",
    "\n",
    "matrix = mydata.corr()\n",
    "sns.heatmap(matrix , cmap='coolwarm')\n",
    "plt.title('Heatmap of the Car Buyers')\n",
    "plt.show()"
   ]
  },
  {
   "cell_type": "code",
   "execution_count": 12,
   "id": "1bd6f397",
   "metadata": {},
   "outputs": [
    {
     "data": {
      "text/plain": [
       "Index(['Manufacturer', 'Model', 'Price', 'Transmission', 'Power', 'Engine CC',\n",
       "       'Fuel', 'Male', 'Female', 'Unknown', 'Total'],\n",
       "      dtype='object')"
      ]
     },
     "execution_count": 12,
     "metadata": {},
     "output_type": "execute_result"
    }
   ],
   "source": [
    "mydata.columns"
   ]
  },
  {
   "cell_type": "code",
   "execution_count": 13,
   "id": "8ae31140",
   "metadata": {},
   "outputs": [
    {
     "data": {
      "text/plain": [
       "Manufacturer    0\n",
       "Model           0\n",
       "Price           0\n",
       "Transmission    0\n",
       "Power           0\n",
       "Engine CC       0\n",
       "Fuel            0\n",
       "Male            0\n",
       "Female          0\n",
       "Unknown         0\n",
       "Total           0\n",
       "dtype: int64"
      ]
     },
     "execution_count": 13,
     "metadata": {},
     "output_type": "execute_result"
    }
   ],
   "source": [
    "#Checking for Null Values\n",
    "\n",
    "mydata.isnull().sum()"
   ]
  },
  {
   "cell_type": "code",
   "execution_count": 14,
   "id": "7ab73c73",
   "metadata": {},
   "outputs": [
    {
     "data": {
      "text/plain": [
       "Manufacturer    False\n",
       "Model           False\n",
       "Price           False\n",
       "Transmission    False\n",
       "Power           False\n",
       "Engine CC       False\n",
       "Fuel            False\n",
       "Male            False\n",
       "Female          False\n",
       "Unknown         False\n",
       "Total           False\n",
       "dtype: bool"
      ]
     },
     "execution_count": 14,
     "metadata": {},
     "output_type": "execute_result"
    }
   ],
   "source": [
    "#Checking for not a number values - axis = 0\n",
    "\n",
    "mydata.isna().any(axis=0)"
   ]
  },
  {
   "cell_type": "code",
   "execution_count": 15,
   "id": "d7409c3e",
   "metadata": {},
   "outputs": [
    {
     "data": {
      "text/plain": [
       "0       False\n",
       "1       False\n",
       "2       False\n",
       "3       False\n",
       "4       False\n",
       "        ...  \n",
       "6087    False\n",
       "6088    False\n",
       "6089    False\n",
       "6090    False\n",
       "6091    False\n",
       "Length: 6092, dtype: bool"
      ]
     },
     "execution_count": 15,
     "metadata": {},
     "output_type": "execute_result"
    }
   ],
   "source": [
    "#Checking for not a number values - axis = 1\n",
    "\n",
    "mydata.isna().any(axis=1)"
   ]
  },
  {
   "cell_type": "code",
   "execution_count": 16,
   "id": "0a618396",
   "metadata": {},
   "outputs": [
    {
     "data": {
      "text/html": [
       "<div>\n",
       "<style scoped>\n",
       "    .dataframe tbody tr th:only-of-type {\n",
       "        vertical-align: middle;\n",
       "    }\n",
       "\n",
       "    .dataframe tbody tr th {\n",
       "        vertical-align: top;\n",
       "    }\n",
       "\n",
       "    .dataframe thead th {\n",
       "        text-align: right;\n",
       "    }\n",
       "</style>\n",
       "<table border=\"1\" class=\"dataframe\">\n",
       "  <thead>\n",
       "    <tr style=\"text-align: right;\">\n",
       "      <th></th>\n",
       "      <th>Manufacturer</th>\n",
       "      <th>Model</th>\n",
       "      <th>Price</th>\n",
       "      <th>Transmission</th>\n",
       "      <th>Power</th>\n",
       "      <th>Engine CC</th>\n",
       "      <th>Fuel</th>\n",
       "      <th>Male</th>\n",
       "      <th>Female</th>\n",
       "      <th>Unknown</th>\n",
       "      <th>Total</th>\n",
       "    </tr>\n",
       "  </thead>\n",
       "  <tbody>\n",
       "  </tbody>\n",
       "</table>\n",
       "</div>"
      ],
      "text/plain": [
       "Empty DataFrame\n",
       "Columns: [Manufacturer, Model, Price, Transmission, Power, Engine CC, Fuel, Male, Female, Unknown, Total]\n",
       "Index: []"
      ]
     },
     "execution_count": 16,
     "metadata": {},
     "output_type": "execute_result"
    }
   ],
   "source": [
    "#Checking for duplicated values\n",
    "\n",
    "mydata[mydata.duplicated()]"
   ]
  },
  {
   "cell_type": "code",
   "execution_count": 17,
   "id": "135b1fdb",
   "metadata": {},
   "outputs": [
    {
     "data": {
      "text/plain": [
       "0       False\n",
       "1       False\n",
       "2       False\n",
       "3       False\n",
       "4       False\n",
       "        ...  \n",
       "6087     True\n",
       "6088     True\n",
       "6089     True\n",
       "6090     True\n",
       "6091     True\n",
       "Length: 6092, dtype: bool"
      ]
     },
     "execution_count": 17,
     "metadata": {},
     "output_type": "execute_result"
    }
   ],
   "source": [
    "#Checking for duplicated values in model column\n",
    "\n",
    "mydata.duplicated('Model')"
   ]
  },
  {
   "cell_type": "code",
   "execution_count": 18,
   "id": "712d4154",
   "metadata": {},
   "outputs": [
    {
     "data": {
      "text/plain": [
       "5591"
      ]
     },
     "execution_count": 18,
     "metadata": {},
     "output_type": "execute_result"
    }
   ],
   "source": [
    "#Number of duplicated rows in model column \n",
    "\n",
    "mydata.duplicated('Model').sum()"
   ]
  },
  {
   "cell_type": "code",
   "execution_count": 19,
   "id": "9f0a264a",
   "metadata": {},
   "outputs": [],
   "source": [
    "#Dropping the rows that contain duplicated values\n",
    "\n",
    "mydata.drop_duplicates(subset=['Model'], inplace=True)"
   ]
  },
  {
   "cell_type": "code",
   "execution_count": 20,
   "id": "c11844ef",
   "metadata": {},
   "outputs": [
    {
     "data": {
      "text/plain": [
       "0"
      ]
     },
     "execution_count": 20,
     "metadata": {},
     "output_type": "execute_result"
    }
   ],
   "source": [
    "mydata.duplicated('Model').sum()   #check to see if there is any duplicted values left"
   ]
  },
  {
   "cell_type": "code",
   "execution_count": 21,
   "id": "0ccbb43c",
   "metadata": {},
   "outputs": [
    {
     "data": {
      "image/png": "[encoded data removed]",
      "text/plain": [
       "<Figure size 640x480 with 1 Axes>"
      ]
     },
     "metadata": {},
     "output_type": "display_data"
    }
   ],
   "source": [
    "#Boxplot (Horse power)\n",
    "\n",
    "sns.boxplot(x=mydata[\"Power\"])\n",
    "plt.show() # it should be normal that horsepower is high "
   ]
  },
  {
   "cell_type": "code",
   "execution_count": 22,
   "id": "ca96140a",
   "metadata": {},
   "outputs": [
    {
     "data": {
      "image/png": "[encoded data removed]",
      "text/plain": [
       "<Figure size 640x480 with 1 Axes>"
      ]
     },
     "metadata": {},
     "output_type": "display_data"
    }
   ],
   "source": [
    "#Boxplot (Transmission)\n",
    "\n",
    "sns.boxplot(x=mydata[\"Transmission\"])\n",
    "plt.show()"
   ]
  },
  {
   "cell_type": "code",
   "execution_count": 23,
   "id": "b882e123",
   "metadata": {},
   "outputs": [],
   "source": [
    "#filtering the rows that contain transmission more than 8 and less than 3 because they don't exist\n",
    "\n",
    "mydata = mydata[(mydata['Transmission'] >= 3) & (mydata['Transmission'] <= 8 ) ]"
   ]
  },
  {
   "cell_type": "code",
   "execution_count": 24,
   "id": "78134116",
   "metadata": {},
   "outputs": [
    {
     "data": {
      "image/png": "[encoded data removed]",
      "text/plain": [
       "<Figure size 640x480 with 1 Axes>"
      ]
     },
     "metadata": {},
     "output_type": "display_data"
    }
   ],
   "source": [
    "sns.boxplot(x=mydata[\"Transmission\"])\n",
    "#plt.show()"
   ]
  },
  {
   "cell_type": "code",
   "execution_count": 25,
   "id": "825db595",
   "metadata": {
    "scrolled": false
   },
   "outputs": [
    {
     "data": {
      "image/png": "[encoded data removed]",
      "text/plain": [
       "<Figure size 640x480 with 1 Axes>"
      ]
     },
     "metadata": {},
     "output_type": "display_data"
    }
   ],
   "source": [
    "#Boxplot (Engine CC)\n",
    "\n",
    "sns.boxplot(x=mydata['Engine CC'])\n",
    "plt.show()"
   ]
  },
  {
   "cell_type": "code",
   "execution_count": 26,
   "id": "9961a8fa",
   "metadata": {},
   "outputs": [],
   "source": [
    "#Filtering the Engine CC that's more than 5000 and less than 900\n",
    "\n",
    "mydata = mydata[(mydata['Engine CC'] >= 900) & (mydata['Engine CC'] <= 5000 ) ] # supercars can have over 3000CC"
   ]
  },
  {
   "cell_type": "code",
   "execution_count": 27,
   "id": "a3a723f6",
   "metadata": {},
   "outputs": [
    {
     "data": {
      "image/png": "[encoded data removed]",
      "text/plain": [
       "<Figure size 640x480 with 1 Axes>"
      ]
     },
     "metadata": {},
     "output_type": "display_data"
    }
   ],
   "source": [
    "sns.boxplot(x=mydata['Engine CC'])\n",
    "plt.show()"
   ]
  },
  {
   "cell_type": "code",
   "execution_count": 28,
   "id": "3cd64ac1",
   "metadata": {},
   "outputs": [
    {
     "name": "stdout",
     "output_type": "stream",
     "text": [
      "0\n"
     ]
    }
   ],
   "source": [
    "#Checking for zero values after filtering \n",
    "\n",
    "count = (mydata['Power'] == 0).sum()\n",
    "print(count)"
   ]
  },
  {
   "cell_type": "code",
   "execution_count": 29,
   "id": "f0f08150",
   "metadata": {},
   "outputs": [
    {
     "name": "stdout",
     "output_type": "stream",
     "text": [
      "0\n"
     ]
    }
   ],
   "source": [
    "#Checking for zero values after filtering \n",
    "\n",
    "count = (mydata['Transmission'] == 0).sum()\n",
    "print(count)"
   ]
  },
  {
   "cell_type": "code",
   "execution_count": 30,
   "id": "bde622f7",
   "metadata": {},
   "outputs": [
    {
     "name": "stdout",
     "output_type": "stream",
     "text": [
      "0\n"
     ]
    }
   ],
   "source": [
    "#Checking for zero values after filtering \n",
    "\n",
    "count = (mydata['Price'] == 0).sum()\n",
    "print(count)"
   ]
  },
  {
   "cell_type": "code",
   "execution_count": 31,
   "id": "7206da6e",
   "metadata": {},
   "outputs": [
    {
     "name": "stdout",
     "output_type": "stream",
     "text": [
      "0\n"
     ]
    }
   ],
   "source": [
    "#Checking for zero values after filtering \n",
    "\n",
    "\n",
    "count = (mydata['Male'] == 0).sum()\n",
    "print(count)"
   ]
  },
  {
   "cell_type": "code",
   "execution_count": 32,
   "id": "3e363fd6",
   "metadata": {},
   "outputs": [
    {
     "name": "stdout",
     "output_type": "stream",
     "text": [
      "0\n"
     ]
    }
   ],
   "source": [
    "#Checking for zero values after filtering \n",
    "\n",
    "count = (mydata['Female'] == 0).sum()\n",
    "print(count)"
   ]
  },
  {
   "cell_type": "code",
   "execution_count": 33,
   "id": "6c80a027",
   "metadata": {},
   "outputs": [
    {
     "data": {
      "image/png": "[encoded data removed]",
      "text/plain": [
       "<Figure size 640x480 with 1 Axes>"
      ]
     },
     "metadata": {},
     "output_type": "display_data"
    }
   ],
   "source": [
    "#Boxplot (prices)\n",
    "\n",
    "sns.boxplot(x=mydata['Price'])\n",
    "plt.show()"
   ]
  },
  {
   "cell_type": "code",
   "execution_count": 34,
   "id": "e37b2579",
   "metadata": {},
   "outputs": [],
   "source": [
    "#Normalizing the prices to a specific scale\n",
    "\n",
    "mydata = mydata[(mydata['Price'] >= 10) & (mydata['Price'] <= 200  ) ] #supercars could be expensive"
   ]
  },
  {
   "cell_type": "code",
   "execution_count": 35,
   "id": "edaf074c",
   "metadata": {},
   "outputs": [
    {
     "data": {
      "image/png": "[encoded data removed]",
      "text/plain": [
       "<Figure size 640x480 with 1 Axes>"
      ]
     },
     "metadata": {},
     "output_type": "display_data"
    }
   ],
   "source": [
    "sns.boxplot(x=mydata['Price'])\n",
    "plt.show()"
   ]
  },
  {
   "cell_type": "code",
   "execution_count": 36,
   "id": "429bda50",
   "metadata": {},
   "outputs": [
    {
     "data": {
      "text/plain": [
       "Text(0, 0.5, 'Number')"
      ]
     },
     "execution_count": 36,
     "metadata": {},
     "output_type": "execute_result"
    },
    {
     "data": {
      "image/png": "[encoded data removed]",
      "text/plain": [
       "<Figure size 640x480 with 1 Axes>"
      ]
     },
     "metadata": {},
     "output_type": "display_data"
    }
   ],
   "source": [
    "#Histogram for fuel type\n",
    "\n",
    "sns.countplot(data=mydata , x='Fuel')\n",
    "plt.title('Fuel Type')\n",
    "plt.xlabel('Fuel')\n",
    "plt.ylabel('Number')"
   ]
  },
  {
   "cell_type": "code",
   "execution_count": 38,
   "id": "c471abc5",
   "metadata": {},
   "outputs": [
    {
     "data": {
      "text/plain": [
       "Text(0, 0.5, 'Number')"
      ]
     },
     "execution_count": 38,
     "metadata": {},
     "output_type": "execute_result"
    },
    {
     "data": {
      "image/png": "[encoded data removed]",
      "text/plain": [
       "<Figure size 640x480 with 1 Axes>"
      ]
     },
     "metadata": {},
     "output_type": "display_data"
    }
   ],
   "source": [
    "#Histogram for the whole model type \n",
    "\n",
    "sns.countplot(data=mydata , x='Manufacturer' )\n",
    "plt.title('Model Type')\n",
    "plt.xlabel('Model')\n",
    "plt.ylabel('Number')"
   ]
  },
  {
   "cell_type": "code",
   "execution_count": 39,
   "id": "944132a5",
   "metadata": {},
   "outputs": [
    {
     "name": "stderr",
     "output_type": "stream",
     "text": [
      "/var/folders/pb/0_h9v7n92911806r472ls_kc0000gn/T/ipykernel_83188/3954023024.py:3: FutureWarning: Dropping of nuisance columns in DataFrame reductions (with 'numeric_only=None') is deprecated; in a future version this will raise TypeError.  Select only valid columns before calling the reduction.\n",
      "  mydata.mean()\n"
     ]
    },
    {
     "data": {
      "text/plain": [
       "Price             38.107452\n",
       "Transmission       5.377749\n",
       "Power            110.909333\n",
       "Engine CC       1970.058394\n",
       "dtype: float64"
      ]
     },
     "execution_count": 39,
     "metadata": {},
     "output_type": "execute_result"
    }
   ],
   "source": [
    "#finding mean, variance, st dev, covariance, correlation\n",
    "\n",
    "mydata.mean()"
   ]
  },
  {
   "cell_type": "code",
   "execution_count": 40,
   "id": "b571c5d7",
   "metadata": {},
   "outputs": [
    {
     "name": "stderr",
     "output_type": "stream",
     "text": [
      "/var/folders/pb/0_h9v7n92911806r472ls_kc0000gn/T/ipykernel_83188/1215635467.py:1: FutureWarning: Dropping of nuisance columns in DataFrame reductions (with 'numeric_only=None') is deprecated; in a future version this will raise TypeError.  Select only valid columns before calling the reduction.\n",
      "  mydata.var()\n"
     ]
    },
    {
     "data": {
      "text/plain": [
       "Price              894.401302\n",
       "Transmission         1.043984\n",
       "Power             3564.211276\n",
       "Engine CC       495270.421258\n",
       "dtype: float64"
      ]
     },
     "execution_count": 40,
     "metadata": {},
     "output_type": "execute_result"
    }
   ],
   "source": [
    "mydata.var()"
   ]
  },
  {
   "cell_type": "code",
   "execution_count": 41,
   "id": "d326f5b9",
   "metadata": {},
   "outputs": [
    {
     "name": "stderr",
     "output_type": "stream",
     "text": [
      "/var/folders/pb/0_h9v7n92911806r472ls_kc0000gn/T/ipykernel_83188/4159344101.py:1: FutureWarning: Dropping of nuisance columns in DataFrame reductions (with 'numeric_only=None') is deprecated; in a future version this will raise TypeError.  Select only valid columns before calling the reduction.\n",
      "  mydata.std()\n"
     ]
    },
    {
     "data": {
      "text/plain": [
       "Price            29.906543\n",
       "Transmission      1.021755\n",
       "Power            59.701016\n",
       "Engine CC       703.754518\n",
       "dtype: float64"
      ]
     },
     "execution_count": 41,
     "metadata": {},
     "output_type": "execute_result"
    }
   ],
   "source": [
    "mydata.std()"
   ]
  },
  {
   "cell_type": "code",
   "execution_count": 42,
   "id": "faef0fd1",
   "metadata": {},
   "outputs": [
    {
     "name": "stdout",
     "output_type": "stream",
     "text": [
      "                     Price  Transmission         Power      Engine CC\n",
      "Price           894.401302     17.842213   1695.471867   16718.028269\n",
      "Transmission     17.842213      1.043984     34.905763     162.734590\n",
      "Power          1695.471867     34.905763   3564.211276   34521.541041\n",
      "Engine CC     16718.028269    162.734590  34521.541041  495270.421258\n"
     ]
    }
   ],
   "source": [
    "covariance = mydata.cov()\n",
    "print(covariance)"
   ]
  },
  {
   "cell_type": "code",
   "execution_count": 4,
   "id": "e8122c5e",
   "metadata": {},
   "outputs": [
    {
     "name": "stdout",
     "output_type": "stream",
     "text": [
      "                 Price  Transmission     Power  Engine CC\n",
      "Price         1.000000      0.329598  0.849530   0.752509\n",
      "Transmission  0.329598      1.000000  0.401518   0.277336\n",
      "Power         0.849530      0.401518  1.000000   0.822792\n",
      "Engine CC     0.752509      0.277336  0.822792   1.000000\n"
     ]
    }
   ],
   "source": [
    "correlation = mydata.corr()\n",
    "print(correlation)"
   ]
  },
  {
   "cell_type": "code",
   "execution_count": 9,
   "id": "e321d920",
   "metadata": {},
   "outputs": [
    {
     "name": "stdout",
     "output_type": "stream",
     "text": [
      "Skewness: \n",
      "Price           6.718310\n",
      "Transmission   -0.732265\n",
      "Power           2.280540\n",
      "Engine CC       1.996236\n",
      "dtype: float64\n"
     ]
    }
   ],
   "source": [
    "#calculation the skewness\n",
    "\n",
    "skewness = mydata[['Price', 'Transmission', 'Power', 'Engine CC']].skew()\n",
    "print(\"Skewness: \")\n",
    "print(skewness)"
   ]
  },
  {
   "cell_type": "code",
   "execution_count": 12,
   "id": "d1e05279",
   "metadata": {},
   "outputs": [
    {
     "name": "stdout",
     "output_type": "stream",
     "text": [
      "Kurtosis: \n",
      "Price           66.284794\n",
      "Transmission     3.659913\n",
      "Power            6.459182\n",
      "Engine CC        6.480850\n",
      "dtype: float64\n"
     ]
    }
   ],
   "source": [
    "#calculating the kurtosis\n",
    "\n",
    "kurtosis_specific = mydata[['Price', 'Transmission', 'Power', 'Engine CC']].kurtosis()\n",
    "print(\"Kurtosis: \")\n",
    "print(kurtosis)"
   ]
  },
  {
   "cell_type": "code",
   "execution_count": 15,
   "id": "b1e5d2d5",
   "metadata": {},
   "outputs": [
    {
     "name": "stdout",
     "output_type": "stream",
     "text": [
      "Covariance Matrix:\n",
      "                     Price  Transmission         Power      Engine CC\n",
      "Price          2637.635580     22.748134   2950.348893   31590.699990\n",
      "Transmission     22.748134      1.805953     36.487621     304.649127\n",
      "Power          2950.348893     36.487621   4572.714528   45479.669160\n",
      "Engine CC     31590.699990    304.649127  45479.669160  668159.636553\n"
     ]
    }
   ],
   "source": [
    "#calculating the covariance matrix\n",
    "\n",
    "cov = mydata.cov()\n",
    "print(\"Covariance Matrix:\")\n",
    "print(cov)"
   ]
  },
  {
   "cell_type": "code",
   "execution_count": 20,
   "id": "8e1a39e5",
   "metadata": {},
   "outputs": [
    {
     "name": "stdout",
     "output_type": "stream",
     "text": [
      "Chi-square Statistic: 2604467.4870889555\n",
      "P-value: 1.0\n",
      "Degrees of Freedom: 2691500\n",
      "Expected Frequencies Table:\n",
      "[[0.00525279 0.00525279 0.0026264  ... 0.0026264  0.00525279 0.0026264 ]\n",
      " [0.00656599 0.00656599 0.00328299 ... 0.00328299 0.00656599 0.00328299]\n",
      " [0.0026264  0.0026264  0.0013132  ... 0.0013132  0.0026264  0.0013132 ]\n",
      " ...\n",
      " [0.00393959 0.00393959 0.0019698  ... 0.0019698  0.00393959 0.0019698 ]\n",
      " [0.00656599 0.00656599 0.00328299 ... 0.00328299 0.00656599 0.00328299]\n",
      " [0.00361129 0.00361129 0.00180565 ... 0.00180565 0.00361129 0.00180565]]\n"
     ]
    }
   ],
   "source": [
    "#Chi square test\n",
    "\n",
    "Model = mydata['Model']\n",
    "Male = mydata['Male']\n",
    "\n",
    "contingency_table = pd.crosstab(Model, Male)\n",
    "\n",
    "chi2_stat, p_value, dof, expected = chi2_contingency(contingency_table)\n",
    "\n",
    "print(\"Chi-square Statistic:\", chi2_stat)\n",
    "print(\"P-value:\", p_value)\n",
    "print(\"Degrees of Freedom:\", dof)\n",
    "print(\"Expected Frequencies Table:\")\n",
    "print(expected)"
   ]
  },
  {
   "cell_type": "code",
   "execution_count": 29,
   "id": "3603e031",
   "metadata": {},
   "outputs": [
    {
     "name": "stdout",
     "output_type": "stream",
     "text": [
      "F Statistic: 74.65068179067563\n",
      "P-value: 5.2308273115121096e-12\n",
      "Reject the null hypothesis\n"
     ]
    }
   ],
   "source": [
    "# ANOVA test\n",
    "\n",
    "group1 = mydata['Price'].iloc[:30]   # i take only 30 rows so the output is more readable\n",
    "group2 = mydata['Power'].iloc[:30]   # i take only 30 rows so the output is more readable\n",
    "\n",
    "f_statistic, p_value = stats.f_oneway(group1, group2)\n",
    "\n",
    "print(\"F Statistic:\", f_statistic)\n",
    "print(\"P-value:\", p_value)\n",
    "\n",
    "alpha = 0.05    # modify the alpha value here \n",
    "\n",
    "if p_value < alpha:\n",
    "    print(\"Reject the null hypothesis\")\n",
    "else:\n",
    "    print(\"Accept the null hypothesis\")"
   ]
  },
  {
   "cell_type": "code",
   "execution_count": 42,
   "id": "e5990975",
   "metadata": {},
   "outputs": [
    {
     "name": "stdout",
     "output_type": "stream",
     "text": [
      "Z-statistic: -7.709194201642649\n",
      "P-value: 1.2656542480726785e-14\n"
     ]
    }
   ],
   "source": [
    "# Z-test \n",
    "# Z-test isnt the best test on this data set\n",
    "\n",
    "group1 = mydata['Price'].iloc[:15]\n",
    "group2 = mydata['Power'].iloc[:15]\n",
    "\n",
    "z_scores_group1 = zscore(group1)\n",
    "z_scores_group2 = zscore(group2)\n",
    "\n",
    "std_dev_group1 = group1.std()\n",
    "std_dev_group2 = group2.std()\n",
    "std_error = ((std_dev_group1**2) / len(group1) + (std_dev_group2**2) / len(group2))**0.5\n",
    "\n",
    "mean_difference = group1.mean() - group2.mean()\n",
    "z_statistic = mean_difference / std_error\n",
    "\n",
    "p_value = 2 * (1 - norm.cdf(abs(z_statistic)))\n",
    "\n",
    "print(\"Z-statistic:\", z_statistic)\n",
    "print(\"P-value:\", p_value)\n"
   ]
  },
  {
   "cell_type": "code",
   "execution_count": 43,
   "id": "0bdadafa",
   "metadata": {},
   "outputs": [],
   "source": [
    "#Naive Bayes Classifier ___________________________________________________________________________________________\n",
    "\n",
    "# create an instance of LabelEncoder\n",
    "le = LabelEncoder()\n",
    "\n",
    "# fit and transform the 'Fuel' column\n",
    "mydata['Fuel'] = le.fit_transform(mydata['Fuel'])"
   ]
  },
  {
   "cell_type": "code",
   "execution_count": 45,
   "id": "b3fe8ffd",
   "metadata": {},
   "outputs": [
    {
     "name": "stdout",
     "output_type": "stream",
     "text": [
      "Accuracy: 0.8293683347005743\n"
     ]
    },
    {
     "data": {
      "image/png": "[encoded data removed]",
      "text/plain": [
       "<Figure size 640x480 with 2 Axes>"
      ]
     },
     "metadata": {},
     "output_type": "display_data"
    },
    {
     "name": "stdout",
     "output_type": "stream",
     "text": [
      "Precision score:  0.7660421117462516\n",
      "Recall score:  0.7914747982611988\n",
      "F1 score:  0.7758341431810819\n"
     ]
    }
   ],
   "source": [
    "# define the features and target variables\n",
    "X = mydata[[ 'Price' , 'Engine CC' , 'Price' , 'Power' , 'Transmission']] #can't include male and female because it contain a comma\n",
    "y = mydata['Fuel']\n",
    "\n",
    "# split the data into training and testing sets\n",
    "X_train, X_test, y_train, y_test = train_test_split(X, y, test_size=0.2, random_state=4)\n",
    "\n",
    "# train the model\n",
    "model = GaussianNB()\n",
    "model.fit(X_train, y_train)\n",
    "\n",
    "# test the model\n",
    "y_pred = model.predict(X_test)\n",
    "accuracy = accuracy_score(y_test, y_pred)\n",
    "print(f\"Accuracy: {accuracy}\")\n",
    "ConfusionMatrixDisplay.from_predictions(y_test, y_pred)\n",
    "plt.show()\n",
    "print('Precision score: ', format(precision_score(y_test, y_pred , average='macro'))) # average = binary doesn't work\n",
    "print('Recall score: ', format(recall_score(y_test, y_pred , average='macro')))\n",
    "print('F1 score: ', format(f1_score(y_test, y_pred , average='macro')))\n"
   ]
  },
  {
   "cell_type": "code",
   "execution_count": null,
   "id": "76340b77",
   "metadata": {},
   "outputs": [
    {
     "name": "stderr",
     "output_type": "stream",
     "text": [
      "WARNING:pgmpy:BayesianModel has been renamed to BayesianNetwork. Please use BayesianNetwork class, BayesianModel will be removed in future.\n",
      "INFO:numexpr.utils:Note: NumExpr detected 10 cores but \"NUMEXPR_MAX_THREADS\" not set, so enforcing safe limit of 8.\n",
      "INFO:numexpr.utils:Note: NumExpr detected 10 cores but \"NUMEXPR_MAX_THREADS\" not set, so enforcing safe limit of 8.\n",
      "INFO:numexpr.utils:Note: NumExpr detected 10 cores but \"NUMEXPR_MAX_THREADS\" not set, so enforcing safe limit of 8.\n",
      "INFO:numexpr.utils:Note: NumExpr detected 10 cores but \"NUMEXPR_MAX_THREADS\" not set, so enforcing safe limit of 8.\n"
     ]
    }
   ],
   "source": [
    "# Bayesian Belief Network\n",
    "\n",
    "model_structure = [\n",
    "    ('Price', 'Fuel'),\n",
    "    ('Power', 'Fuel'),\n",
    "    ('Engine CC', 'Fuel')\n",
    "]\n",
    "\n",
    "bayesian_model = BayesianModel(model_structure)\n",
    "\n",
    "bayesian_model.fit(mydata)\n",
    "\n",
    "inference = VariableElimination(bayesian_model)\n",
    "\n",
    "query_result = inference.query(variables=['Fuel'], evidence={'Price': 100, 'Power': 300, 'Engine CC':3000})\n",
    "print(query_result)"
   ]
  },
  {
   "cell_type": "code",
   "execution_count": 149,
   "id": "707cd389",
   "metadata": {},
   "outputs": [
    {
     "name": "stdout",
     "output_type": "stream",
     "text": [
      "Accuracy score:  0.8594091903719913\n"
     ]
    },
    {
     "data": {
      "image/png": "[encoded data removed]",
      "text/plain": [
       "<Figure size 640x480 with 2 Axes>"
      ]
     },
     "metadata": {},
     "output_type": "display_data"
    },
    {
     "name": "stdout",
     "output_type": "stream",
     "text": [
      "Precision score:  0.37594916258279926\n",
      "Recall score:  0.6247956657792724\n",
      "F1 score:  0.44134397477584003\n"
     ]
    },
    {
     "name": "stderr",
     "output_type": "stream",
     "text": [
      "/Users/omarmedhat/opt/anaconda3/lib/python3.9/site-packages/sklearn/metrics/_classification.py:1318: UndefinedMetricWarning: Precision is ill-defined and being set to 0.0 in labels with no predicted samples. Use `zero_division` parameter to control this behavior.\n",
      "  _warn_prf(average, modifier, msg_start, len(result))\n"
     ]
    }
   ],
   "source": [
    "#LDA Classifier ___________________________________________________________________________________________________\n",
    "\n",
    "LDA = LinearDiscriminantAnalysis()\n",
    "X = LDA.fit(X_train,y_train) # X = price , Engine CC , Transmission and Power\n",
    "prediction=X.predict(X_test) # Y = fuel (Target)\n",
    "Accuracy= print('Accuracy score: ', format(accuracy_score(y_test, prediction)))\n",
    "ConfusionMatrixDisplay.from_predictions(y_test, prediction)\n",
    "plt.show()\n",
    "print('Precision score: ', format(precision_score(y_test, prediction , average='macro'))) # average = binary doesn't work\n",
    "print('Recall score: ', format(recall_score(y_test, prediction, average='macro')))\n",
    "print('F1 score: ', format(f1_score(y_test, prediction, average='macro')))"
   ]
  },
  {
   "cell_type": "code",
   "execution_count": null,
   "id": "7e4c676e",
   "metadata": {},
   "outputs": [],
   "source": [
    "# PCA\n",
    "\n",
    "import matplotlib.pyplot as plt\n",
    "from sklearn import datasets\n",
    "from sklearn.model_selection import StratifiedKFold\n",
    "from sklearn.preprocessing import StandardScaler\n",
    "from sklearn.decomposition import PCA\n",
    "from sklearn.discriminant_analysis import LinearDiscriminantAnalysis\n",
    "from sklearn.neighbors import KNeighborsClassifier\n",
    "from sklearn.metrics import accuracy_score, roc_curve, auc\n",
    "from sklearn.model_selection import cross_val_predict\n",
    "\n",
    "X = mydata[[ 'Price' , 'Engine CC' , 'Price' , 'Power' , 'Transmission']] #can't include male and female because it contain a comma\n",
    "y = mydata['Fuel']\n",
    "X_train, X_test, y_train, y_test = train_test_split(X, y, test_size=0.2, random_state=4)\n",
    "\n",
    "scaler = StandardScaler()\n",
    "X_train_std = scaler.fit_transform(X_train)\n",
    "X_test_std = scaler.transform(X_test)\n",
    "\n",
    "pca = PCA(n_components = 2)\n",
    "\n",
    "X_train_pca = pca.fit_transform(X_train_std)\n",
    "X_test_pca = pca.transform(X_test_std)\n",
    "\n",
    "knn_pca = KNeighborsClassifier(n_neighbors=3)"
   ]
  },
  {
   "cell_type": "code",
   "execution_count": 6,
   "id": "cace8e4c",
   "metadata": {},
   "outputs": [
    {
     "name": "stdout",
     "output_type": "stream",
     "text": [
      "U matrix:\n",
      "[[-8.94747587e-03  8.39121117e-04  5.08942319e-03  1.52359121e-02\n",
      "   9.98729655e-01]\n",
      " [-6.96601611e-03  2.46969964e-03  3.87726501e-03  1.86695728e-02\n",
      "  -3.42204490e-04]\n",
      " [-9.18543597e-03  1.64802919e-03  2.41561528e-03  1.67175438e-02\n",
      "  -1.01603149e-03]\n",
      " ...\n",
      " [-1.61129174e-02  2.09871938e-03  6.71678950e-03 -3.87559208e-03\n",
      "   5.83325465e-04]\n",
      " [-1.34548325e-02  8.53583961e-03  2.10383238e-04 -9.80169160e-03\n",
      "  -1.53771780e-05]\n",
      " [-1.08455649e-02  7.83267712e-03 -2.10273730e-03 -2.44293592e-03\n",
      "  -3.09708640e-05]]\n",
      "\n",
      "S matrix (diagonal singular values):\n",
      "[[1.67724414e+05 0.00000000e+00 0.00000000e+00 0.00000000e+00\n",
      "  0.00000000e+00]\n",
      " [0.00000000e+00 4.86851605e+03 0.00000000e+00 0.00000000e+00\n",
      "  0.00000000e+00]\n",
      " [0.00000000e+00 0.00000000e+00 2.12368716e+03 0.00000000e+00\n",
      "  0.00000000e+00]\n",
      " [0.00000000e+00 0.00000000e+00 0.00000000e+00 1.48116804e+02\n",
      "  0.00000000e+00]\n",
      " [0.00000000e+00 0.00000000e+00 0.00000000e+00 0.00000000e+00\n",
      "  4.77694711e-12]]\n",
      "\n",
      "VT matrix:\n",
      "[[-2.46219862e-02 -9.97714723e-01 -2.46219862e-02 -5.78591324e-02\n",
      "  -2.27350160e-03]\n",
      " [-6.08900334e-01  5.93153832e-02 -6.08900334e-01 -5.04883101e-01\n",
      "   7.45033241e-03]\n",
      " [-3.58406824e-01 -3.23012125e-02 -3.58406824e-01  8.61064180e-01\n",
      "   2.47831850e-02]\n",
      " [ 1.33675059e-02 -1.91034315e-03  1.33675059e-02 -1.77158879e-02\n",
      "   9.99662502e-01]\n",
      " [ 7.07106781e-01  1.04083409e-17 -7.07106781e-01  1.04083409e-17\n",
      "  -7.45687149e-16]]\n"
     ]
    }
   ],
   "source": [
    "# SVD as feature reduction (which takes a matrix and reduce the dimension of it by using the most important features)\n",
    "\n",
    "def svd_decomposition(matrix):\n",
    "    U, S, VT = np.linalg.svd(matrix, full_matrices=False)   # economy-sized decomposition (small)\n",
    "    return U, S, VT\n",
    "\n",
    "matrix = mydata[[ 'Price' , 'Engine CC' , 'Price' , 'Power' , 'Transmission']]  # work only with numerical data\n",
    "U, S, VT = svd_decomposition(matrix)\n",
    "\n",
    "print(\"U matrix:\")\n",
    "print(U)             # Left singular vectors matrix.\n",
    "print(\"\\nS matrix (diagonal singular values):\")\n",
    "print(np.diag(S))    # The diagonal singular values are returned as a 1D array S and we use np.diag(s) to obtain it\n",
    "print(\"\\nVT matrix:\")\n",
    "print(VT)            # Transpose of the right singular vectors matrix.\n"
   ]
  },
  {
   "cell_type": "code",
   "execution_count": 148,
   "id": "7e466268",
   "metadata": {},
   "outputs": [
    {
     "name": "stdout",
     "output_type": "stream",
     "text": [
      "Accuracy score:  0.8834792122538293\n"
     ]
    },
    {
     "data": {
      "image/png": "[encoded data removed]",
      "text/plain": [
       "<Figure size 640x480 with 2 Axes>"
      ]
     },
     "metadata": {},
     "output_type": "display_data"
    },
    {
     "name": "stdout",
     "output_type": "stream",
     "text": [
      "Precision score:  0.8103693958903554\n",
      "Recall score:  0.7050425125426885\n",
      "F1 score:  0.6438354664379675\n"
     ]
    }
   ],
   "source": [
    "#Decision Tree Classifier (Entropy)________________________________________________________________________________\n",
    "\n",
    "Tree = DecisionTreeClassifier(criterion='entropy',ccp_alpha=0.015)\n",
    "Tree.fit(X_train,y_train) # X = price , Engine CC , Transmission and Power\n",
    "prediction = Tree.predict(X_test) # Y = fuel (Target) \n",
    "Accuracy = print('Accuracy score: ', format(accuracy_score(y_test, prediction)))\n",
    "ConfusionMatrixDisplay.from_predictions(y_test, prediction)\n",
    "plt.show()\n",
    "print('Precision score: ', format(precision_score(y_test, prediction , average='macro'))) # average = binary doesn't work\n",
    "print('Recall score: ', format(recall_score(y_test, prediction, average='macro')))\n",
    "print('F1 score: ', format(f1_score(y_test, prediction, average='macro')))"
   ]
  },
  {
   "cell_type": "code",
   "execution_count": 167,
   "id": "f2a5dd8b",
   "metadata": {},
   "outputs": [
    {
     "name": "stdout",
     "output_type": "stream",
     "text": [
      "0.028868724787521116\n"
     ]
    }
   ],
   "source": [
    "#Linear Regression ________________________________________________________________________________________________\n",
    "\n",
    "\n",
    "mydata = pd.read_csv('CarBuyers.csv')\n",
    "le = LabelEncoder()\n",
    "mydata['Fuel'] = le.fit_transform(mydata['Fuel'])\n",
    "\n",
    "X = mydata[['Price', 'Transmission', 'Power', 'Engine CC']]\n",
    "y = mydata['Fuel']\n",
    "\n",
    "# Split the data into training and testing sets\n",
    "X_train, X_test, y_train, y_test = train_test_split(X, y, test_size=0.2, random_state=43)\n",
    "\n",
    "# Create and fit the linear regression model\n",
    "model = LinearRegression()\n",
    "model.fit(X_train, y_train)\n",
    "\n",
    "# Predict on the testing set\n",
    "prediction = model.predict(X_test)\n",
    "\n",
    "# Evaluate the model\n",
    "score = model.score(X_test, y_test)\n",
    "print(score)\n",
    "\n",
    "\n"
   ]
  },
  {
   "cell_type": "code",
   "execution_count": 168,
   "id": "dfd2335e",
   "metadata": {},
   "outputs": [
    {
     "name": "stdout",
     "output_type": "stream",
     "text": [
      "Accuracy score:  0.8796498905908097\n"
     ]
    },
    {
     "name": "stderr",
     "output_type": "stream",
     "text": [
      "/Users/omarmedhat/opt/anaconda3/lib/python3.9/site-packages/sklearn/linear_model/_logistic.py:814: ConvergenceWarning: lbfgs failed to converge (status=1):\n",
      "STOP: TOTAL NO. of ITERATIONS REACHED LIMIT.\n",
      "\n",
      "Increase the number of iterations (max_iter) or scale the data as shown in:\n",
      "    https://scikit-learn.org/stable/modules/preprocessing.html\n",
      "Please also refer to the documentation for alternative solver options:\n",
      "    https://scikit-learn.org/stable/modules/linear_model.html#logistic-regression\n",
      "  n_iter_i = _check_optimize_result(\n"
     ]
    },
    {
     "data": {
      "image/png": "[encoded data removed]",
      "text/plain": [
       "<Figure size 640x480 with 2 Axes>"
      ]
     },
     "metadata": {},
     "output_type": "display_data"
    },
    {
     "name": "stdout",
     "output_type": "stream",
     "text": [
      "Precision score:  0.626061277224068\n",
      "Recall score:  0.3648068669527897\n",
      "F1 score:  0.36923017634726846\n"
     ]
    },
    {
     "name": "stderr",
     "output_type": "stream",
     "text": [
      "/Users/omarmedhat/opt/anaconda3/lib/python3.9/site-packages/sklearn/metrics/_classification.py:1318: UndefinedMetricWarning: Precision is ill-defined and being set to 0.0 in labels with no predicted samples. Use `zero_division` parameter to control this behavior.\n",
      "  _warn_prf(average, modifier, msg_start, len(result))\n"
     ]
    }
   ],
   "source": [
    "#Logistic Regression ______________________________________________________________________________________________\n",
    "\n",
    "model = LogisticRegression()\n",
    "X = model.fit(X_train,y_train) # target = Fuel = Y , X = Engine CC, Power, Transmission, Price\n",
    "prediction = X.predict(X_test)\n",
    "Accuracy = print('Accuracy score: ', format(accuracy_score(y_test, prediction)))\n",
    "\n",
    "ConfusionMatrixDisplay.from_predictions(y_test, prediction)\n",
    "plt.show()\n",
    "print('Precision score: ', format(precision_score(y_test, prediction , average='macro'))) # average = binary doesn't work\n",
    "print('Recall score: ', format(recall_score(y_test, prediction, average='macro')))\n",
    "print('F1 score: ', format(f1_score(y_test, prediction, average='macro')))"
   ]
  },
  {
   "cell_type": "code",
   "execution_count": 169,
   "id": "1de1283d",
   "metadata": {},
   "outputs": [
    {
     "name": "stdout",
     "output_type": "stream",
     "text": [
      "Accuracy score:  0.9890590809628009\n"
     ]
    },
    {
     "name": "stderr",
     "output_type": "stream",
     "text": [
      "/Users/omarmedhat/opt/anaconda3/lib/python3.9/site-packages/sklearn/neighbors/_classification.py:228: FutureWarning: Unlike other reduction functions (e.g. `skew`, `kurtosis`), the default behavior of `mode` typically preserves the axis it acts along. In SciPy 1.11.0, this behavior will change: the default value of `keepdims` will become False, the `axis` over which the statistic is taken will be eliminated, and the value None will no longer be accepted. Set `keepdims` to True or False to avoid this warning.\n",
      "  mode, _ = stats.mode(_y[neigh_ind, k], axis=1)\n"
     ]
    },
    {
     "data": {
      "image/png": "[encoded data removed]",
      "text/plain": [
       "<Figure size 640x480 with 2 Axes>"
      ]
     },
     "metadata": {},
     "output_type": "display_data"
    },
    {
     "name": "stdout",
     "output_type": "stream",
     "text": [
      "Precision score:  0.9893933263652405\n",
      "Recall score:  0.9774899108255894\n",
      "F1 score:  0.9832849985848763\n"
     ]
    }
   ],
   "source": [
    "#KNN Classifier __________________________________________________________________________________________________\n",
    "\n",
    "KNN = KNeighborsClassifier(n_neighbors=5)  # you can modify the distance from here as required in this phase\n",
    "Model_KNN = KNN.fit(X_train,y_train) # target = Fuel = Y , X = Engine CC, Power, Transmission, Price\n",
    "prediction = Model_KNN.predict(X_test)\n",
    "Accuracy = print('Accuracy score: ', format(accuracy_score(y_test, prediction)))\n",
    "\n",
    "ConfusionMatrixDisplay.from_predictions(y_test, prediction)\n",
    "plt.show()\n",
    "print('Precision score: ', format(precision_score(y_test, prediction , average='macro'))) # average = binary doesn't work\n",
    "print('Recall score: ', format(recall_score(y_test, prediction, average='macro')))\n",
    "print('F1 score: ', format(f1_score(y_test, prediction, average='macro')))"
   ]
  },
  {
   "cell_type": "code",
   "execution_count": 120,
   "id": "24e56bcb",
   "metadata": {},
   "outputs": [
    {
     "name": "stdout",
     "output_type": "stream",
     "text": [
      "Mean Absolute Error: 0.29568982503377433\n",
      "Mean Squared Error: 0.16332713661561044\n",
      "Root Mean Squared Error: 0.4041375219100677\n"
     ]
    }
   ],
   "source": [
    "#Neural Network as a classifier\n",
    "\n",
    "NN = MLPRegressor()\n",
    "NN.fit(X_train, y_train)          # target = Fuel = Y , X = Engine CC, Power, Transmission, Price\n",
    "prediction = NN.predict(X_test)\n",
    "print('Mean Absolute Error:', metrics.mean_absolute_error(y_test, prediction))\n",
    "print('Mean Squared Error:', metrics.mean_squared_error(y_test, prediction))  \n",
    "print('Root Mean Squared Error:', np.sqrt(metrics.mean_squared_error(y_test, prediction)))"
   ]
  },
  {
   "cell_type": "code",
   "execution_count": 122,
   "id": "67924a4b",
   "metadata": {
    "scrolled": false
   },
   "outputs": [
    {
     "data": {
      "text/plain": [
       "<AxesSubplot:>"
      ]
     },
     "execution_count": 122,
     "metadata": {},
     "output_type": "execute_result"
    },
    {
     "data": {
      "image/png": "[encoded data removed]",
      "text/plain": [
       "<Figure size 640x480 with 2 Axes>"
      ]
     },
     "metadata": {},
     "output_type": "display_data"
    }
   ],
   "source": [
    "#Correlation between variables (i chose the same attributes with each algorithm) __________________________________\n",
    "\n",
    "newdata = mydata[['Engine CC' ,'Power','Price', 'Transmission' ]]\n",
    "sns.heatmap(newdata.corr(), annot = True)"
   ]
  },
  {
   "cell_type": "code",
   "execution_count": 11,
   "id": "7aa8389d",
   "metadata": {},
   "outputs": [
    {
     "name": "stdout",
     "output_type": "stream",
     "text": [
      "Classification Report:\n",
      "              precision    recall  f1-score   support\n",
      "\n",
      "   automatic       1.00      0.88      0.93         8\n",
      "      diesel       0.00      0.00      0.00       152\n",
      "      petrol       0.87      1.00      0.93      1059\n",
      "\n",
      "    accuracy                           0.87      1219\n",
      "   macro avg       0.62      0.62      0.62      1219\n",
      "weighted avg       0.77      0.87      0.82      1219\n",
      "\n",
      "Accuracy: 0.874487284659557\n"
     ]
    },
    {
     "name": "stderr",
     "output_type": "stream",
     "text": [
      "/Users/omarmedhat/opt/anaconda3/lib/python3.9/site-packages/sklearn/metrics/_classification.py:1318: UndefinedMetricWarning: Precision and F-score are ill-defined and being set to 0.0 in labels with no predicted samples. Use `zero_division` parameter to control this behavior.\n",
      "  _warn_prf(average, modifier, msg_start, len(result))\n",
      "/Users/omarmedhat/opt/anaconda3/lib/python3.9/site-packages/sklearn/metrics/_classification.py:1318: UndefinedMetricWarning: Precision and F-score are ill-defined and being set to 0.0 in labels with no predicted samples. Use `zero_division` parameter to control this behavior.\n",
      "  _warn_prf(average, modifier, msg_start, len(result))\n",
      "/Users/omarmedhat/opt/anaconda3/lib/python3.9/site-packages/sklearn/metrics/_classification.py:1318: UndefinedMetricWarning: Precision and F-score are ill-defined and being set to 0.0 in labels with no predicted samples. Use `zero_division` parameter to control this behavior.\n",
      "  _warn_prf(average, modifier, msg_start, len(result))\n"
     ]
    }
   ],
   "source": [
    "# Neural Network Classifier\n",
    "\n",
    "X = mydata[['Price', 'Transmission', 'Power', 'Engine CC']]\n",
    "y = mydata['Fuel']\n",
    "X_train, X_test, y_train, y_test = train_test_split(X, y, test_size=0.2, random_state=43)\n",
    "\n",
    "NN = MLPClassifier()\n",
    "NN.fit(X_train, y_train)      # target = Fuel = Y , X = Engine CC, Power, Transmission, Price\n",
    "predictions = NN.predict(X_test)\n",
    "\n",
    "\n",
    "print(\"Classification Report:\")                   # Report\n",
    "print(classification_report(y_test, predictions))\n",
    "\n",
    "accuracy = accuracy_score(y_test, predictions)    # Accuracy\n",
    "print(f\"Accuracy: {accuracy}\")"
   ]
  },
  {
   "cell_type": "code",
   "execution_count": 16,
   "id": "f789c28e",
   "metadata": {},
   "outputs": [
    {
     "data": {
      "image/png": "[encoded data removed]",
      "text/plain": [
       "<Figure size 800x600 with 1 Axes>"
      ]
     },
     "metadata": {},
     "output_type": "display_data"
    },
    {
     "name": "stdout",
     "output_type": "stream",
     "text": [
      "Confusion Matrix:\n",
      "[[   3    0    5]\n",
      " [   0    3  149]\n",
      " [   5    7 1047]]\n"
     ]
    }
   ],
   "source": [
    "# ROC Diagram\n",
    "\n",
    "X = mydata[['Price', 'Transmission']]\n",
    "y = mydata['Fuel']\n",
    "X_train, X_test, y_train, y_test = train_test_split(X, y, test_size=0.2, random_state=43)\n",
    "\n",
    "NN = MLPClassifier()\n",
    "NN.fit(X_train, y_train)\n",
    "predictions = NN.predict(X_test)\n",
    "\n",
    "\n",
    "y_test_bin = label_binarize(y_test, classes=np.unique(y_test))\n",
    "\n",
    "fpr = dict()\n",
    "tpr = dict()\n",
    "roc_auc = dict()\n",
    "n_classes = y_test_bin.shape[1]\n",
    "\n",
    "for i in range(n_classes):\n",
    "    fpr[i], tpr[i], _ = roc_curve(y_test_bin[:, i], NN.predict_proba(X_test)[:, i])\n",
    "    roc_auc[i] = auc(fpr[i], tpr[i])\n",
    "\n",
    "fpr[\"micro\"], tpr[\"micro\"], _ = roc_curve(y_test_bin.ravel(), NN.predict_proba(X_test).ravel())\n",
    "roc_auc[\"micro\"] = auc(fpr[\"micro\"], tpr[\"micro\"])\n",
    "\n",
    "plt.figure(figsize=(8, 6))\n",
    "for i in range(n_classes):\n",
    "    plt.plot(fpr[i], tpr[i], label=f'Class {i} (AUC = {roc_auc[i]:.2f})')\n",
    "\n",
    "plt.plot(fpr[\"micro\"], tpr[\"micro\"], label=f'Micro-average (AUC = {roc_auc[\"micro\"]:.2f})', linestyle='--', color='deeppink')\n",
    "\n",
    "plt.plot([0, 1], [0, 1], linestyle='--', color='gray', label='Random')\n",
    "plt.xlabel('False Positive Rate')\n",
    "plt.ylabel('True Positive Rate')\n",
    "plt.title('Receiver Operating Characteristic (ROC) Curve (Multiclass)')\n",
    "plt.legend()\n",
    "plt.show()\n",
    "\n",
    "conf_matrix = confusion_matrix(y_test, predictions)\n",
    "print(\"Confusion Matrix:\")\n",
    "print(conf_matrix)"
   ]
  },
  {
   "cell_type": "code",
   "execution_count": null,
   "id": "6e6f03ff",
   "metadata": {},
   "outputs": [],
   "source": [
    "summary of the data:\n",
    "\n",
    "#The dataset contains 6092 rows and 11 columns.\n",
    "#The target variable is not specified.\n",
    "#The features include:\n",
    "#Manufacturer: Categorical variable indicating the car manufacturer.\n",
    "#Model: Categorical variable indicating the car model.\n",
    "#Price: Numerical variable indicating the car price.\n",
    "#Transmission: Numerical variable indicating the car transmission type.\n",
    "#Power: Numerical variable indicating the car power.\n",
    "#Engine CC: Numerical variable indicating the car engine capacity.\n",
    "#Fuel: Categorical variable indicating the car fuel type.\n",
    "#Male: Categorical variable indicating the number of male buyers.\n",
    "#Female: Categorical variable indicating the number of female buyers.\n",
    "#Unknown: Categorical variable indicating the number of unknown gender buyers.\n",
    "#Total: Categorical variable indicating the total number of buyers.\n",
    "#The dataset contains both categorical and numerical variables.\n",
    "#There are no missing values in the dataset.\n",
    "#This data has been fetched from https://www.car-data.com/ \n",
    "# Mainak Chaudhuri is the owner of the data \n",
    "# this dataset was generated in India"
   ]
  },
  {
   "cell_type": "code",
   "execution_count": 127,
   "id": "9578ce99",
   "metadata": {},
   "outputs": [
    {
     "name": "stdout",
     "output_type": "stream",
     "text": [
      "<class 'pandas.core.frame.DataFrame'>\n",
      "RangeIndex: 6092 entries, 0 to 6091\n",
      "Data columns (total 12 columns):\n",
      " #   Column        Non-Null Count  Dtype  \n",
      "---  ------        --------------  -----  \n",
      " 0   Manufacturer  6092 non-null   object \n",
      " 1   Model         6092 non-null   object \n",
      " 2   Price         6092 non-null   float64\n",
      " 3   Transmission  6092 non-null   float64\n",
      " 4   Power         6092 non-null   float64\n",
      " 5   Engine CC     6092 non-null   float64\n",
      " 6   Fuel          6092 non-null   object \n",
      " 7   Male          6092 non-null   object \n",
      " 8   Female        6092 non-null   object \n",
      " 9   Unknown       6092 non-null   object \n",
      " 10  Total         6092 non-null   object \n",
      " 11  Fuel_binary   6092 non-null   int64  \n",
      "dtypes: float64(4), int64(1), object(7)\n",
      "memory usage: 571.2+ KB\n"
     ]
    }
   ],
   "source": [
    "mydata.info()"
   ]
  },
  {
   "cell_type": "code",
   "execution_count": null,
   "id": "da148f18",
   "metadata": {},
   "outputs": [],
   "source": []
  }
 ],
 "metadata": {
  "kernelspec": {
   "display_name": "Python 3 (ipykernel)",
   "language": "python",
   "name": "python3"
  },
  "language_info": {
   "codemirror_mode": {
    "name": "ipython",
    "version": 3
   },
   "file_extension": ".py",
   "mimetype": "text/x-python",
   "name": "python",
   "nbconvert_exporter": "python",
   "pygments_lexer": "ipython3",
   "version": "3.9.13"
  }
 },
 "nbformat": 4,
 "nbformat_minor": 5
}
